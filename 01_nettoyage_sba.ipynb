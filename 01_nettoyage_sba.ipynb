{
 "cells": [
  {
   "cell_type": "code",
   "execution_count": 256,
   "metadata": {},
   "outputs": [],
   "source": [
    "import numpy as np \n",
    "import pandas as pd \n",
    "import matplotlib.pyplot as plt\n",
    "import seaborn as sns"
   ]
  },
  {
   "cell_type": "code",
   "execution_count": 257,
   "metadata": {},
   "outputs": [],
   "source": [
    "# afficher les résultats en entier\n",
    "pd.set_option('display.max_row',100)\n",
    "pd.set_option('display.max_column', 50)"
   ]
  },
  {
   "cell_type": "code",
   "execution_count": 258,
   "metadata": {},
   "outputs": [
    {
     "name": "stderr",
     "output_type": "stream",
     "text": [
      "C:\\Users\\nicol\\AppData\\Local\\Temp\\ipykernel_23380\\1245351179.py:2: DtypeWarning: Columns (9) have mixed types. Specify dtype option on import or set low_memory=False.\n",
      "  df = pd.read_csv('SBAnational.csv')\n"
     ]
    }
   ],
   "source": [
    "# chargement du fichier csv\n",
    "df = pd.read_csv('SBAnational.csv')"
   ]
  },
  {
   "cell_type": "code",
   "execution_count": 259,
   "metadata": {},
   "outputs": [
    {
     "data": {
      "text/plain": [
       "LoanNr_ChkDgt          int64\n",
       "Name                  object\n",
       "City                  object\n",
       "State                 object\n",
       "Zip                    int64\n",
       "Bank                  object\n",
       "BankState             object\n",
       "NAICS                  int64\n",
       "ApprovalDate          object\n",
       "ApprovalFY            object\n",
       "Term                   int64\n",
       "NoEmp                  int64\n",
       "NewExist             float64\n",
       "CreateJob              int64\n",
       "RetainedJob            int64\n",
       "FranchiseCode          int64\n",
       "UrbanRural             int64\n",
       "RevLineCr             object\n",
       "LowDoc                object\n",
       "ChgOffDate            object\n",
       "DisbursementDate      object\n",
       "DisbursementGross     object\n",
       "BalanceGross          object\n",
       "MIS_Status            object\n",
       "ChgOffPrinGr          object\n",
       "GrAppv                object\n",
       "SBA_Appv              object\n",
       "dtype: object"
      ]
     },
     "execution_count": 259,
     "metadata": {},
     "output_type": "execute_result"
    }
   ],
   "source": [
    "# Vérification des types des variables\n",
    "df.dtypes"
   ]
  },
  {
   "cell_type": "markdown",
   "metadata": {},
   "source": [
    "## Gestion des valeurs manquantes"
   ]
  },
  {
   "cell_type": "code",
   "execution_count": 260,
   "metadata": {},
   "outputs": [
    {
     "data": {
      "text/plain": [
       "LoanNr_ChkDgt             0\n",
       "Name                     14\n",
       "City                     30\n",
       "State                    14\n",
       "Zip                       0\n",
       "Bank                   1559\n",
       "BankState              1566\n",
       "NAICS                     0\n",
       "ApprovalDate              0\n",
       "ApprovalFY                0\n",
       "Term                      0\n",
       "NoEmp                     0\n",
       "NewExist                136\n",
       "CreateJob                 0\n",
       "RetainedJob               0\n",
       "FranchiseCode             0\n",
       "UrbanRural                0\n",
       "RevLineCr              4528\n",
       "LowDoc                 2582\n",
       "ChgOffDate           736465\n",
       "DisbursementDate       2368\n",
       "DisbursementGross         0\n",
       "BalanceGross              0\n",
       "MIS_Status             1997\n",
       "ChgOffPrinGr              0\n",
       "GrAppv                    0\n",
       "SBA_Appv                  0\n",
       "dtype: int64"
      ]
     },
     "execution_count": 260,
     "metadata": {},
     "output_type": "execute_result"
    }
   ],
   "source": [
    "# détection des valeurs manquantes\n",
    "df.isnull().sum()"
   ]
  },
  {
   "cell_type": "code",
   "execution_count": 261,
   "metadata": {},
   "outputs": [],
   "source": [
    "# remplacer les valeurs manquantes de la variable 'Name' par 'unknown'\n",
    "df['Name'] = df['Name'].fillna('unknown')"
   ]
  },
  {
   "cell_type": "code",
   "execution_count": 262,
   "metadata": {},
   "outputs": [],
   "source": [
    "# remplacer les valeurs manquantes de la variable 'City' par 'unknown'\n",
    "df['City'] = df['City'].fillna('unknown')"
   ]
  },
  {
   "cell_type": "code",
   "execution_count": 263,
   "metadata": {},
   "outputs": [
    {
     "data": {
      "text/plain": [
       "LoanNr_ChkDgt             0\n",
       "Name                      0\n",
       "City                      0\n",
       "State                    14\n",
       "Zip                       0\n",
       "Bank                   1559\n",
       "BankState              1566\n",
       "NAICS                     0\n",
       "ApprovalDate              0\n",
       "ApprovalFY                0\n",
       "Term                      0\n",
       "NoEmp                     0\n",
       "NewExist                136\n",
       "CreateJob                 0\n",
       "RetainedJob               0\n",
       "FranchiseCode             0\n",
       "UrbanRural                0\n",
       "RevLineCr              4528\n",
       "LowDoc                 2582\n",
       "ChgOffDate           736465\n",
       "DisbursementDate       2368\n",
       "DisbursementGross         0\n",
       "BalanceGross              0\n",
       "MIS_Status             1997\n",
       "ChgOffPrinGr              0\n",
       "GrAppv                    0\n",
       "SBA_Appv                  0\n",
       "dtype: int64"
      ]
     },
     "execution_count": 263,
     "metadata": {},
     "output_type": "execute_result"
    }
   ],
   "source": [
    "df.isnull().sum()"
   ]
  },
  {
   "cell_type": "code",
   "execution_count": 264,
   "metadata": {},
   "outputs": [
    {
     "data": {
      "text/html": [
       "<div>\n",
       "<style scoped>\n",
       "    .dataframe tbody tr th:only-of-type {\n",
       "        vertical-align: middle;\n",
       "    }\n",
       "\n",
       "    .dataframe tbody tr th {\n",
       "        vertical-align: top;\n",
       "    }\n",
       "\n",
       "    .dataframe thead th {\n",
       "        text-align: right;\n",
       "    }\n",
       "</style>\n",
       "<table border=\"1\" class=\"dataframe\">\n",
       "  <thead>\n",
       "    <tr style=\"text-align: right;\">\n",
       "      <th></th>\n",
       "      <th>LoanNr_ChkDgt</th>\n",
       "      <th>Name</th>\n",
       "      <th>City</th>\n",
       "      <th>State</th>\n",
       "      <th>Zip</th>\n",
       "      <th>Bank</th>\n",
       "      <th>BankState</th>\n",
       "      <th>NAICS</th>\n",
       "      <th>ApprovalDate</th>\n",
       "      <th>ApprovalFY</th>\n",
       "      <th>Term</th>\n",
       "      <th>NoEmp</th>\n",
       "      <th>NewExist</th>\n",
       "      <th>CreateJob</th>\n",
       "      <th>RetainedJob</th>\n",
       "      <th>FranchiseCode</th>\n",
       "      <th>UrbanRural</th>\n",
       "      <th>RevLineCr</th>\n",
       "      <th>LowDoc</th>\n",
       "      <th>ChgOffDate</th>\n",
       "      <th>DisbursementDate</th>\n",
       "      <th>DisbursementGross</th>\n",
       "      <th>BalanceGross</th>\n",
       "      <th>MIS_Status</th>\n",
       "      <th>ChgOffPrinGr</th>\n",
       "      <th>GrAppv</th>\n",
       "      <th>SBA_Appv</th>\n",
       "    </tr>\n",
       "  </thead>\n",
       "  <tbody>\n",
       "    <tr>\n",
       "      <th>35517</th>\n",
       "      <td>1270833006</td>\n",
       "      <td>SO. JERSEY DANCE/MERRYLEES</td>\n",
       "      <td>PENNSVILLE</td>\n",
       "      <td>NaN</td>\n",
       "      <td>8070</td>\n",
       "      <td>NaN</td>\n",
       "      <td>NaN</td>\n",
       "      <td>0</td>\n",
       "      <td>28-Jul-81</td>\n",
       "      <td>1981</td>\n",
       "      <td>120</td>\n",
       "      <td>1</td>\n",
       "      <td>2.0</td>\n",
       "      <td>0</td>\n",
       "      <td>0</td>\n",
       "      <td>0</td>\n",
       "      <td>0</td>\n",
       "      <td>N</td>\n",
       "      <td>N</td>\n",
       "      <td>5-Mar-90</td>\n",
       "      <td>NaN</td>\n",
       "      <td>$0.00</td>\n",
       "      <td>$0.00</td>\n",
       "      <td>NaN</td>\n",
       "      <td>$11,364.00</td>\n",
       "      <td>$15,000.00</td>\n",
       "      <td>$15,000.00</td>\n",
       "    </tr>\n",
       "    <tr>\n",
       "      <th>49244</th>\n",
       "      <td>1380800010</td>\n",
       "      <td>TRYON COATS &amp; LEATHER</td>\n",
       "      <td>JOHNSTOWN       NY</td>\n",
       "      <td>NaN</td>\n",
       "      <td>0</td>\n",
       "      <td>KEYBANK NATIONAL ASSOCIATION</td>\n",
       "      <td>NY</td>\n",
       "      <td>0</td>\n",
       "      <td>18-May-66</td>\n",
       "      <td>1966</td>\n",
       "      <td>282</td>\n",
       "      <td>0</td>\n",
       "      <td>0.0</td>\n",
       "      <td>0</td>\n",
       "      <td>0</td>\n",
       "      <td>0</td>\n",
       "      <td>0</td>\n",
       "      <td>N</td>\n",
       "      <td>N</td>\n",
       "      <td>29-Mar-90</td>\n",
       "      <td>16-Aug-66</td>\n",
       "      <td>$60,000.00</td>\n",
       "      <td>$0.00</td>\n",
       "      <td>CHGOFF</td>\n",
       "      <td>$6,084.00</td>\n",
       "      <td>$60,000.00</td>\n",
       "      <td>$54,000.00</td>\n",
       "    </tr>\n",
       "    <tr>\n",
       "      <th>264664</th>\n",
       "      <td>2850643009</td>\n",
       "      <td>CENTURY 21 PHILLIPS REALTY</td>\n",
       "      <td>CAMERON PARK</td>\n",
       "      <td>NaN</td>\n",
       "      <td>95682</td>\n",
       "      <td>SBA - EDF ENFORCEMENT ACTION</td>\n",
       "      <td>CO</td>\n",
       "      <td>0</td>\n",
       "      <td>12-Feb-87</td>\n",
       "      <td>1987</td>\n",
       "      <td>240</td>\n",
       "      <td>19</td>\n",
       "      <td>1.0</td>\n",
       "      <td>0</td>\n",
       "      <td>19</td>\n",
       "      <td>0</td>\n",
       "      <td>0</td>\n",
       "      <td>N</td>\n",
       "      <td>N</td>\n",
       "      <td>NaN</td>\n",
       "      <td>17-Jun-87</td>\n",
       "      <td>$81,000.00</td>\n",
       "      <td>$0.00</td>\n",
       "      <td>P I F</td>\n",
       "      <td>$0.00</td>\n",
       "      <td>$83,000.00</td>\n",
       "      <td>$83,000.00</td>\n",
       "    </tr>\n",
       "    <tr>\n",
       "      <th>306274</th>\n",
       "      <td>3113583009</td>\n",
       "      <td>THE COMPUTER EDGE</td>\n",
       "      <td>BOX 267, APO  AP</td>\n",
       "      <td>NaN</td>\n",
       "      <td>96205</td>\n",
       "      <td>RTC/WESTPORT SAVINGS BANK</td>\n",
       "      <td>CA</td>\n",
       "      <td>541511</td>\n",
       "      <td>21-Jan-88</td>\n",
       "      <td>1988</td>\n",
       "      <td>73</td>\n",
       "      <td>8</td>\n",
       "      <td>1.0</td>\n",
       "      <td>0</td>\n",
       "      <td>0</td>\n",
       "      <td>0</td>\n",
       "      <td>0</td>\n",
       "      <td>N</td>\n",
       "      <td>N</td>\n",
       "      <td>18-Sep-93</td>\n",
       "      <td>16-Mar-88</td>\n",
       "      <td>$50,000.00</td>\n",
       "      <td>$0.00</td>\n",
       "      <td>CHGOFF</td>\n",
       "      <td>$30,589.00</td>\n",
       "      <td>$50,000.00</td>\n",
       "      <td>$45,000.00</td>\n",
       "    </tr>\n",
       "    <tr>\n",
       "      <th>328526</th>\n",
       "      <td>3280213000</td>\n",
       "      <td>KING'S TRUCK WASH</td>\n",
       "      <td>WICHITA</td>\n",
       "      <td>NaN</td>\n",
       "      <td>67219</td>\n",
       "      <td>SOUTH CENT. KANSAS ECONOMIC DE</td>\n",
       "      <td>KS</td>\n",
       "      <td>811192</td>\n",
       "      <td>5-Aug-88</td>\n",
       "      <td>1988</td>\n",
       "      <td>120</td>\n",
       "      <td>17</td>\n",
       "      <td>2.0</td>\n",
       "      <td>10</td>\n",
       "      <td>7</td>\n",
       "      <td>0</td>\n",
       "      <td>0</td>\n",
       "      <td>N</td>\n",
       "      <td>N</td>\n",
       "      <td>NaN</td>\n",
       "      <td>12-Jul-89</td>\n",
       "      <td>$119,000.00</td>\n",
       "      <td>$0.00</td>\n",
       "      <td>P I F</td>\n",
       "      <td>$0.00</td>\n",
       "      <td>$119,000.00</td>\n",
       "      <td>$119,000.00</td>\n",
       "    </tr>\n",
       "    <tr>\n",
       "      <th>351072</th>\n",
       "      <td>3445553007</td>\n",
       "      <td>JAMES A. NICHOLS</td>\n",
       "      <td>1542,TABUK,SAUDI ARABIA</td>\n",
       "      <td>NaN</td>\n",
       "      <td>79925</td>\n",
       "      <td>WELLS FARGO BANK NATL ASSOC</td>\n",
       "      <td>TX</td>\n",
       "      <td>532230</td>\n",
       "      <td>19-May-89</td>\n",
       "      <td>1989</td>\n",
       "      <td>16</td>\n",
       "      <td>1</td>\n",
       "      <td>2.0</td>\n",
       "      <td>0</td>\n",
       "      <td>0</td>\n",
       "      <td>0</td>\n",
       "      <td>0</td>\n",
       "      <td>N</td>\n",
       "      <td>N</td>\n",
       "      <td>NaN</td>\n",
       "      <td>31-Jul-89</td>\n",
       "      <td>$60,000.00</td>\n",
       "      <td>$0.00</td>\n",
       "      <td>P I F</td>\n",
       "      <td>$0.00</td>\n",
       "      <td>$60,000.00</td>\n",
       "      <td>$54,000.00</td>\n",
       "    </tr>\n",
       "    <tr>\n",
       "      <th>366139</th>\n",
       "      <td>3556993002</td>\n",
       "      <td>GOLF SHOES UNLIMITED, INC.</td>\n",
       "      <td>PALM BEACH GARDENS</td>\n",
       "      <td>NaN</td>\n",
       "      <td>33410</td>\n",
       "      <td>BEAL BANK, SSB</td>\n",
       "      <td>TX</td>\n",
       "      <td>451110</td>\n",
       "      <td>19-Oct-89</td>\n",
       "      <td>1990</td>\n",
       "      <td>84</td>\n",
       "      <td>3</td>\n",
       "      <td>2.0</td>\n",
       "      <td>0</td>\n",
       "      <td>0</td>\n",
       "      <td>1</td>\n",
       "      <td>0</td>\n",
       "      <td>N</td>\n",
       "      <td>N</td>\n",
       "      <td>NaN</td>\n",
       "      <td>31-Jan-90</td>\n",
       "      <td>$75,000.00</td>\n",
       "      <td>$0.00</td>\n",
       "      <td>P I F</td>\n",
       "      <td>$0.00</td>\n",
       "      <td>$75,000.00</td>\n",
       "      <td>$67,500.00</td>\n",
       "    </tr>\n",
       "    <tr>\n",
       "      <th>366158</th>\n",
       "      <td>3557093005</td>\n",
       "      <td>CASCO SERVICE</td>\n",
       "      <td>CASCO</td>\n",
       "      <td>NaN</td>\n",
       "      <td>54205</td>\n",
       "      <td>UNION STATE BANK</td>\n",
       "      <td>WI</td>\n",
       "      <td>0</td>\n",
       "      <td>19-Oct-89</td>\n",
       "      <td>1990</td>\n",
       "      <td>204</td>\n",
       "      <td>8</td>\n",
       "      <td>1.0</td>\n",
       "      <td>0</td>\n",
       "      <td>0</td>\n",
       "      <td>1</td>\n",
       "      <td>0</td>\n",
       "      <td>N</td>\n",
       "      <td>N</td>\n",
       "      <td>NaN</td>\n",
       "      <td>30-Apr-90</td>\n",
       "      <td>$300,000.00</td>\n",
       "      <td>$0.00</td>\n",
       "      <td>P I F</td>\n",
       "      <td>$0.00</td>\n",
       "      <td>$300,000.00</td>\n",
       "      <td>$252,600.00</td>\n",
       "    </tr>\n",
       "    <tr>\n",
       "      <th>367007</th>\n",
       "      <td>3563473008</td>\n",
       "      <td>P &amp; P TOOL INC</td>\n",
       "      <td>SOMERSET</td>\n",
       "      <td>NaN</td>\n",
       "      <td>54025</td>\n",
       "      <td>FIRST BANK OF BALDWIN</td>\n",
       "      <td>WI</td>\n",
       "      <td>0</td>\n",
       "      <td>26-Oct-89</td>\n",
       "      <td>1990</td>\n",
       "      <td>240</td>\n",
       "      <td>7</td>\n",
       "      <td>1.0</td>\n",
       "      <td>0</td>\n",
       "      <td>0</td>\n",
       "      <td>1</td>\n",
       "      <td>0</td>\n",
       "      <td>N</td>\n",
       "      <td>N</td>\n",
       "      <td>NaN</td>\n",
       "      <td>31-Jan-90</td>\n",
       "      <td>$82,000.00</td>\n",
       "      <td>$0.00</td>\n",
       "      <td>P I F</td>\n",
       "      <td>$0.00</td>\n",
       "      <td>$82,000.00</td>\n",
       "      <td>$73,800.00</td>\n",
       "    </tr>\n",
       "    <tr>\n",
       "      <th>379174</th>\n",
       "      <td>3664443009</td>\n",
       "      <td>WILLIAMS JEWELERS</td>\n",
       "      <td>SALT LAKE CITY</td>\n",
       "      <td>NaN</td>\n",
       "      <td>84124</td>\n",
       "      <td>ZIONS FIRST NATIONAL BANK</td>\n",
       "      <td>UT</td>\n",
       "      <td>448310</td>\n",
       "      <td>14-Dec-89</td>\n",
       "      <td>1990</td>\n",
       "      <td>60</td>\n",
       "      <td>4</td>\n",
       "      <td>1.0</td>\n",
       "      <td>0</td>\n",
       "      <td>0</td>\n",
       "      <td>1</td>\n",
       "      <td>0</td>\n",
       "      <td>N</td>\n",
       "      <td>N</td>\n",
       "      <td>NaN</td>\n",
       "      <td>31-Jul-90</td>\n",
       "      <td>$250,000.00</td>\n",
       "      <td>$0.00</td>\n",
       "      <td>P I F</td>\n",
       "      <td>$0.00</td>\n",
       "      <td>$250,000.00</td>\n",
       "      <td>$212,500.00</td>\n",
       "    </tr>\n",
       "    <tr>\n",
       "      <th>385418</th>\n",
       "      <td>3714383003</td>\n",
       "      <td>LAKE MOVIE TYMES, INC.</td>\n",
       "      <td>LAKE OZARK</td>\n",
       "      <td>NaN</td>\n",
       "      <td>65049</td>\n",
       "      <td>CENTRAL BK OF LAKE OF OZARKS</td>\n",
       "      <td>MO</td>\n",
       "      <td>532230</td>\n",
       "      <td>4-Jan-90</td>\n",
       "      <td>1990</td>\n",
       "      <td>60</td>\n",
       "      <td>1</td>\n",
       "      <td>1.0</td>\n",
       "      <td>0</td>\n",
       "      <td>0</td>\n",
       "      <td>1</td>\n",
       "      <td>0</td>\n",
       "      <td>N</td>\n",
       "      <td>N</td>\n",
       "      <td>NaN</td>\n",
       "      <td>31-Jan-90</td>\n",
       "      <td>$75,000.00</td>\n",
       "      <td>$0.00</td>\n",
       "      <td>P I F</td>\n",
       "      <td>$0.00</td>\n",
       "      <td>$75,000.00</td>\n",
       "      <td>$67,500.00</td>\n",
       "    </tr>\n",
       "    <tr>\n",
       "      <th>869948</th>\n",
       "      <td>9390913007</td>\n",
       "      <td>OLSON ELECTRIC SERVICE, INC.</td>\n",
       "      <td>A452638533</td>\n",
       "      <td>NaN</td>\n",
       "      <td>75236</td>\n",
       "      <td>PROSPERITY BANK</td>\n",
       "      <td>TX</td>\n",
       "      <td>235310</td>\n",
       "      <td>9-Jul-96</td>\n",
       "      <td>1996</td>\n",
       "      <td>60</td>\n",
       "      <td>17</td>\n",
       "      <td>1.0</td>\n",
       "      <td>0</td>\n",
       "      <td>0</td>\n",
       "      <td>1</td>\n",
       "      <td>0</td>\n",
       "      <td>N</td>\n",
       "      <td>Y</td>\n",
       "      <td>NaN</td>\n",
       "      <td>31-Jul-96</td>\n",
       "      <td>$40,000.00</td>\n",
       "      <td>$0.00</td>\n",
       "      <td>P I F</td>\n",
       "      <td>$0.00</td>\n",
       "      <td>$40,000.00</td>\n",
       "      <td>$32,000.00</td>\n",
       "    </tr>\n",
       "    <tr>\n",
       "      <th>871847</th>\n",
       "      <td>9416233003</td>\n",
       "      <td>METRO SHEETMETAL &amp; ERECTION</td>\n",
       "      <td>A452638533</td>\n",
       "      <td>NaN</td>\n",
       "      <td>76052</td>\n",
       "      <td>PROSPERITY BANK</td>\n",
       "      <td>TX</td>\n",
       "      <td>235610</td>\n",
       "      <td>23-Jul-96</td>\n",
       "      <td>1996</td>\n",
       "      <td>84</td>\n",
       "      <td>3</td>\n",
       "      <td>1.0</td>\n",
       "      <td>0</td>\n",
       "      <td>0</td>\n",
       "      <td>1</td>\n",
       "      <td>0</td>\n",
       "      <td>N</td>\n",
       "      <td>Y</td>\n",
       "      <td>NaN</td>\n",
       "      <td>31-Jul-96</td>\n",
       "      <td>$80,000.00</td>\n",
       "      <td>$0.00</td>\n",
       "      <td>P I F</td>\n",
       "      <td>$0.00</td>\n",
       "      <td>$80,000.00</td>\n",
       "      <td>$64,000.00</td>\n",
       "    </tr>\n",
       "    <tr>\n",
       "      <th>885335</th>\n",
       "      <td>9690723000</td>\n",
       "      <td>VERANDA INTERIORS, INC.</td>\n",
       "      <td>A452638533</td>\n",
       "      <td>NaN</td>\n",
       "      <td>76645</td>\n",
       "      <td>PROSPERITY BANK</td>\n",
       "      <td>TX</td>\n",
       "      <td>0</td>\n",
       "      <td>24-Oct-96</td>\n",
       "      <td>1997</td>\n",
       "      <td>120</td>\n",
       "      <td>3</td>\n",
       "      <td>1.0</td>\n",
       "      <td>0</td>\n",
       "      <td>0</td>\n",
       "      <td>1</td>\n",
       "      <td>0</td>\n",
       "      <td>N</td>\n",
       "      <td>N</td>\n",
       "      <td>NaN</td>\n",
       "      <td>31-Jan-97</td>\n",
       "      <td>$100,000.00</td>\n",
       "      <td>$0.00</td>\n",
       "      <td>P I F</td>\n",
       "      <td>$0.00</td>\n",
       "      <td>$100,000.00</td>\n",
       "      <td>$80,000.00</td>\n",
       "    </tr>\n",
       "  </tbody>\n",
       "</table>\n",
       "</div>"
      ],
      "text/plain": [
       "        LoanNr_ChkDgt                          Name                     City  \\\n",
       "35517      1270833006    SO. JERSEY DANCE/MERRYLEES               PENNSVILLE   \n",
       "49244      1380800010         TRYON COATS & LEATHER       JOHNSTOWN       NY   \n",
       "264664     2850643009    CENTURY 21 PHILLIPS REALTY             CAMERON PARK   \n",
       "306274     3113583009             THE COMPUTER EDGE         BOX 267, APO  AP   \n",
       "328526     3280213000             KING'S TRUCK WASH                  WICHITA   \n",
       "351072     3445553007              JAMES A. NICHOLS  1542,TABUK,SAUDI ARABIA   \n",
       "366139     3556993002    GOLF SHOES UNLIMITED, INC.       PALM BEACH GARDENS   \n",
       "366158     3557093005                 CASCO SERVICE                    CASCO   \n",
       "367007     3563473008                P & P TOOL INC                 SOMERSET   \n",
       "379174     3664443009             WILLIAMS JEWELERS           SALT LAKE CITY   \n",
       "385418     3714383003        LAKE MOVIE TYMES, INC.               LAKE OZARK   \n",
       "869948     9390913007  OLSON ELECTRIC SERVICE, INC.               A452638533   \n",
       "871847     9416233003   METRO SHEETMETAL & ERECTION               A452638533   \n",
       "885335     9690723000       VERANDA INTERIORS, INC.               A452638533   \n",
       "\n",
       "       State    Zip                            Bank BankState   NAICS  \\\n",
       "35517    NaN   8070                             NaN       NaN       0   \n",
       "49244    NaN      0    KEYBANK NATIONAL ASSOCIATION        NY       0   \n",
       "264664   NaN  95682    SBA - EDF ENFORCEMENT ACTION        CO       0   \n",
       "306274   NaN  96205       RTC/WESTPORT SAVINGS BANK        CA  541511   \n",
       "328526   NaN  67219  SOUTH CENT. KANSAS ECONOMIC DE        KS  811192   \n",
       "351072   NaN  79925     WELLS FARGO BANK NATL ASSOC        TX  532230   \n",
       "366139   NaN  33410                  BEAL BANK, SSB        TX  451110   \n",
       "366158   NaN  54205                UNION STATE BANK        WI       0   \n",
       "367007   NaN  54025           FIRST BANK OF BALDWIN        WI       0   \n",
       "379174   NaN  84124       ZIONS FIRST NATIONAL BANK        UT  448310   \n",
       "385418   NaN  65049    CENTRAL BK OF LAKE OF OZARKS        MO  532230   \n",
       "869948   NaN  75236                 PROSPERITY BANK        TX  235310   \n",
       "871847   NaN  76052                 PROSPERITY BANK        TX  235610   \n",
       "885335   NaN  76645                 PROSPERITY BANK        TX       0   \n",
       "\n",
       "       ApprovalDate ApprovalFY  Term  NoEmp  NewExist  CreateJob  RetainedJob  \\\n",
       "35517     28-Jul-81       1981   120      1       2.0          0            0   \n",
       "49244     18-May-66       1966   282      0       0.0          0            0   \n",
       "264664    12-Feb-87       1987   240     19       1.0          0           19   \n",
       "306274    21-Jan-88       1988    73      8       1.0          0            0   \n",
       "328526     5-Aug-88       1988   120     17       2.0         10            7   \n",
       "351072    19-May-89       1989    16      1       2.0          0            0   \n",
       "366139    19-Oct-89       1990    84      3       2.0          0            0   \n",
       "366158    19-Oct-89       1990   204      8       1.0          0            0   \n",
       "367007    26-Oct-89       1990   240      7       1.0          0            0   \n",
       "379174    14-Dec-89       1990    60      4       1.0          0            0   \n",
       "385418     4-Jan-90       1990    60      1       1.0          0            0   \n",
       "869948     9-Jul-96       1996    60     17       1.0          0            0   \n",
       "871847    23-Jul-96       1996    84      3       1.0          0            0   \n",
       "885335    24-Oct-96       1997   120      3       1.0          0            0   \n",
       "\n",
       "        FranchiseCode  UrbanRural RevLineCr LowDoc ChgOffDate  \\\n",
       "35517               0           0         N      N   5-Mar-90   \n",
       "49244               0           0         N      N  29-Mar-90   \n",
       "264664              0           0         N      N        NaN   \n",
       "306274              0           0         N      N  18-Sep-93   \n",
       "328526              0           0         N      N        NaN   \n",
       "351072              0           0         N      N        NaN   \n",
       "366139              1           0         N      N        NaN   \n",
       "366158              1           0         N      N        NaN   \n",
       "367007              1           0         N      N        NaN   \n",
       "379174              1           0         N      N        NaN   \n",
       "385418              1           0         N      N        NaN   \n",
       "869948              1           0         N      Y        NaN   \n",
       "871847              1           0         N      Y        NaN   \n",
       "885335              1           0         N      N        NaN   \n",
       "\n",
       "       DisbursementDate DisbursementGross BalanceGross MIS_Status  \\\n",
       "35517               NaN            $0.00        $0.00         NaN   \n",
       "49244         16-Aug-66       $60,000.00        $0.00      CHGOFF   \n",
       "264664        17-Jun-87       $81,000.00        $0.00       P I F   \n",
       "306274        16-Mar-88       $50,000.00        $0.00      CHGOFF   \n",
       "328526        12-Jul-89      $119,000.00        $0.00       P I F   \n",
       "351072        31-Jul-89       $60,000.00        $0.00       P I F   \n",
       "366139        31-Jan-90       $75,000.00        $0.00       P I F   \n",
       "366158        30-Apr-90      $300,000.00        $0.00       P I F   \n",
       "367007        31-Jan-90       $82,000.00        $0.00       P I F   \n",
       "379174        31-Jul-90      $250,000.00        $0.00       P I F   \n",
       "385418        31-Jan-90       $75,000.00        $0.00       P I F   \n",
       "869948        31-Jul-96       $40,000.00        $0.00       P I F   \n",
       "871847        31-Jul-96       $80,000.00        $0.00       P I F   \n",
       "885335        31-Jan-97      $100,000.00        $0.00       P I F   \n",
       "\n",
       "       ChgOffPrinGr        GrAppv      SBA_Appv  \n",
       "35517   $11,364.00    $15,000.00    $15,000.00   \n",
       "49244    $6,084.00    $60,000.00    $54,000.00   \n",
       "264664       $0.00    $83,000.00    $83,000.00   \n",
       "306274  $30,589.00    $50,000.00    $45,000.00   \n",
       "328526       $0.00   $119,000.00   $119,000.00   \n",
       "351072       $0.00    $60,000.00    $54,000.00   \n",
       "366139       $0.00    $75,000.00    $67,500.00   \n",
       "366158       $0.00   $300,000.00   $252,600.00   \n",
       "367007       $0.00    $82,000.00    $73,800.00   \n",
       "379174       $0.00   $250,000.00   $212,500.00   \n",
       "385418       $0.00    $75,000.00    $67,500.00   \n",
       "869948       $0.00    $40,000.00    $32,000.00   \n",
       "871847       $0.00    $80,000.00    $64,000.00   \n",
       "885335       $0.00   $100,000.00    $80,000.00   "
      ]
     },
     "execution_count": 264,
     "metadata": {},
     "output_type": "execute_result"
    }
   ],
   "source": [
    "df.loc[df['State'].isnull()]"
   ]
  },
  {
   "cell_type": "markdown",
   "metadata": {},
   "source": [
    "## Déduction des valeurs manquantes pour les variables 'State' et 'Zip'"
   ]
  },
  {
   "cell_type": "code",
   "execution_count": 265,
   "metadata": {},
   "outputs": [],
   "source": [
    "df.loc[35517,'State'] = \"NJ\""
   ]
  },
  {
   "cell_type": "code",
   "execution_count": 266,
   "metadata": {},
   "outputs": [],
   "source": [
    "df.loc[49244, 'State'] = \"NY\"\n",
    "df.loc[49244, 'City'] = \"JOHNSTOWN\"\n",
    "df.loc[49244, 'Zip'] = 12095"
   ]
  },
  {
   "cell_type": "code",
   "execution_count": 267,
   "metadata": {},
   "outputs": [],
   "source": [
    "df.loc[264664,\"State\"] = \"CA\""
   ]
  },
  {
   "cell_type": "code",
   "execution_count": 268,
   "metadata": {},
   "outputs": [],
   "source": [
    "df.loc[328526, 'State'] = \"KS\""
   ]
  },
  {
   "cell_type": "code",
   "execution_count": 269,
   "metadata": {},
   "outputs": [],
   "source": [
    "df.loc[351072, 'City'] = 'EL PASO'\n",
    "df.loc[351072, 'State'] = 'TX'"
   ]
  },
  {
   "cell_type": "code",
   "execution_count": 270,
   "metadata": {},
   "outputs": [],
   "source": [
    "df.loc[366139, 'State'] = \"FL\""
   ]
  },
  {
   "cell_type": "code",
   "execution_count": 271,
   "metadata": {},
   "outputs": [],
   "source": [
    "df.loc[366158, 'State'] = \"WI\""
   ]
  },
  {
   "cell_type": "code",
   "execution_count": 272,
   "metadata": {},
   "outputs": [],
   "source": [
    "df.loc[367007,\"State\"] =\"WI\""
   ]
  },
  {
   "cell_type": "code",
   "execution_count": 273,
   "metadata": {},
   "outputs": [],
   "source": [
    "df.loc[379174,'State'] = \"UT\""
   ]
  },
  {
   "cell_type": "code",
   "execution_count": 274,
   "metadata": {},
   "outputs": [],
   "source": [
    "df.loc[385418, 'State'] = \"MO\""
   ]
  },
  {
   "cell_type": "code",
   "execution_count": 275,
   "metadata": {},
   "outputs": [],
   "source": [
    "df.loc[869948,'State'] = 'TX'"
   ]
  },
  {
   "cell_type": "code",
   "execution_count": 276,
   "metadata": {},
   "outputs": [],
   "source": [
    "df.loc[871847, 'State'] = 'TX'"
   ]
  },
  {
   "cell_type": "code",
   "execution_count": 277,
   "metadata": {},
   "outputs": [],
   "source": [
    "df.loc[885335, 'State'] = 'TX'"
   ]
  },
  {
   "cell_type": "code",
   "execution_count": 278,
   "metadata": {},
   "outputs": [],
   "source": [
    "df.loc[306274, 'State'] = 'unknown'"
   ]
  },
  {
   "cell_type": "code",
   "execution_count": 279,
   "metadata": {},
   "outputs": [],
   "source": [
    "# remplacer les valeurs manquantes de la variable 'Bank' par 'unknown'\n",
    "df['Bank'] = df['Bank'].fillna('unknown')"
   ]
  },
  {
   "cell_type": "code",
   "execution_count": 280,
   "metadata": {},
   "outputs": [],
   "source": [
    "# remplacer les valeurs manquantes de la variable 'BankState' par 'unknown'\n",
    "df['BankState'] = df['BankState'].fillna('unknown')"
   ]
  },
  {
   "cell_type": "code",
   "execution_count": 281,
   "metadata": {},
   "outputs": [],
   "source": [
    "# convertir les valeurs manquantes de la variable 'NewExist' en 0 et en type 'int'\n",
    "df['NewExist'] = df['NewExist'].fillna(0)\n",
    "df['NewExist'] = df['NewExist'].astype(int)"
   ]
  },
  {
   "cell_type": "code",
   "execution_count": 282,
   "metadata": {},
   "outputs": [
    {
     "data": {
      "text/plain": [
       "LoanNr_ChkDgt         int64\n",
       "Name                 object\n",
       "City                 object\n",
       "State                object\n",
       "Zip                   int64\n",
       "Bank                 object\n",
       "BankState            object\n",
       "NAICS                 int64\n",
       "ApprovalDate         object\n",
       "ApprovalFY           object\n",
       "Term                  int64\n",
       "NoEmp                 int64\n",
       "NewExist              int64\n",
       "CreateJob             int64\n",
       "RetainedJob           int64\n",
       "FranchiseCode         int64\n",
       "UrbanRural            int64\n",
       "RevLineCr            object\n",
       "LowDoc               object\n",
       "ChgOffDate           object\n",
       "DisbursementDate     object\n",
       "DisbursementGross    object\n",
       "BalanceGross         object\n",
       "MIS_Status           object\n",
       "ChgOffPrinGr         object\n",
       "GrAppv               object\n",
       "SBA_Appv             object\n",
       "dtype: object"
      ]
     },
     "execution_count": 282,
     "metadata": {},
     "output_type": "execute_result"
    }
   ],
   "source": [
    "df.dtypes"
   ]
  },
  {
   "cell_type": "markdown",
   "metadata": {},
   "source": [
    "### Variable 'RevLineCr'"
   ]
  },
  {
   "cell_type": "code",
   "execution_count": 283,
   "metadata": {},
   "outputs": [
    {
     "data": {
      "text/plain": [
       "RevLineCr\n",
       "N    420288\n",
       "0    257602\n",
       "Y    201397\n",
       "T     15284\n",
       "1        23\n",
       "R        14\n",
       "`        11\n",
       "2         6\n",
       "C         2\n",
       ",         1\n",
       "3         1\n",
       "7         1\n",
       "A         1\n",
       "5         1\n",
       ".         1\n",
       "4         1\n",
       "-         1\n",
       "Q         1\n",
       "Name: count, dtype: int64"
      ]
     },
     "execution_count": 283,
     "metadata": {},
     "output_type": "execute_result"
    }
   ],
   "source": [
    "df['RevLineCr'].value_counts()"
   ]
  },
  {
   "cell_type": "code",
   "execution_count": 284,
   "metadata": {},
   "outputs": [],
   "source": [
    "# Remplacer toutes les valeurs de la variable 'RevLineCr' sauf \"Y\" et \"N\" par 0 (unknown)\n",
    "df.loc[~df['RevLineCr'].isin(['Y', 'N']), 'RevLineCr'] = \"0\"\n",
    "# remplacer les valeurs \"N\" (no) par 1 \n",
    "df['RevLineCr'] = df['RevLineCr'].str.replace(\"N\", \"1\")\n",
    "# remplacer les valeurs \"Y\" (yes) par 2\n",
    "df['RevLineCr'] = df['RevLineCr'].str.replace(\"Y\", \"2\")\n",
    "\n",
    "# convertir la variable en type int\n",
    "df['RevLineCr'] = df['RevLineCr'].astype(int)"
   ]
  },
  {
   "cell_type": "markdown",
   "metadata": {},
   "source": [
    "### Variable 'LowDoc'"
   ]
  },
  {
   "cell_type": "code",
   "execution_count": 285,
   "metadata": {},
   "outputs": [
    {
     "data": {
      "text/plain": [
       "LowDoc\n",
       "N    782822\n",
       "Y    110335\n",
       "0      1491\n",
       "C       758\n",
       "S       603\n",
       "A       497\n",
       "R        75\n",
       "1         1\n",
       "Name: count, dtype: int64"
      ]
     },
     "execution_count": 285,
     "metadata": {},
     "output_type": "execute_result"
    }
   ],
   "source": [
    "df['LowDoc'].value_counts()"
   ]
  },
  {
   "cell_type": "code",
   "execution_count": 286,
   "metadata": {},
   "outputs": [],
   "source": [
    "# Remplacer toutes les valeurs de la variable 'LowDoc' sauf \"Y\" et \"N\" par 0 (unknown)\n",
    "df.loc[~df['LowDoc'].isin(['Y', 'N']), 'LowDoc'] = \"0\"\n",
    "\n",
    "# remplacer les valeurs \"N\" (no) par 1 \n",
    "df['LowDoc'] = df['LowDoc'].str.replace(\"N\", \"1\")\n",
    "\n",
    "# remplacer les valeurs \"Y\" (yes) par 2\n",
    "df['LowDoc'] = df['LowDoc'].str.replace(\"Y\", \"2\")\n",
    "\n",
    "# convertir la variable en type int\n",
    "df['LowDoc'] = df['LowDoc'].astype(int)"
   ]
  },
  {
   "cell_type": "code",
   "execution_count": 287,
   "metadata": {},
   "outputs": [
    {
     "data": {
      "text/plain": [
       "LowDoc\n",
       "1    782822\n",
       "2    110335\n",
       "0      6007\n",
       "Name: count, dtype: int64"
      ]
     },
     "execution_count": 287,
     "metadata": {},
     "output_type": "execute_result"
    }
   ],
   "source": [
    "df['LowDoc'].value_counts()"
   ]
  },
  {
   "cell_type": "markdown",
   "metadata": {},
   "source": [
    "### Variables 'DisbursementGross', 'BalanceGross', 'ChgOffPrinGr', 'GrAppv', 'SBA_Appv'"
   ]
  },
  {
   "cell_type": "code",
   "execution_count": 288,
   "metadata": {},
   "outputs": [],
   "source": [
    "# supprimer des virgules\n",
    "df['DisbursementGross'] = df['DisbursementGross'].str.replace(',','')\n",
    "\n",
    "# supprimer des dollars\n",
    "df['DisbursementGross'] = df['DisbursementGross'].str.replace('$','')\n",
    "\n",
    "# transformation de la variable en type float\n",
    "df['DisbursementGross'] = df['DisbursementGross'].astype(float)"
   ]
  },
  {
   "cell_type": "code",
   "execution_count": 289,
   "metadata": {},
   "outputs": [],
   "source": [
    "# supprimer des virgules\n",
    "df['BalanceGross'] = df['BalanceGross'].str.replace(',','')\n",
    "\n",
    "# supprimer des dollars\n",
    "df['BalanceGross'] = df['BalanceGross'].str.replace('$','')\n",
    "\n",
    "# transformation de la variable en type float\n",
    "df['BalanceGross'] = df['BalanceGross'].astype(float)"
   ]
  },
  {
   "cell_type": "code",
   "execution_count": 290,
   "metadata": {},
   "outputs": [],
   "source": [
    "# supprimer des virgules\n",
    "df['ChgOffPrinGr'] = df['ChgOffPrinGr'].str.replace(',','')\n",
    "\n",
    "# supprimer des dollars\n",
    "df['ChgOffPrinGr'] = df['ChgOffPrinGr'].str.replace('$','')\n",
    "\n",
    "# transformation de la variable en type float\n",
    "df['ChgOffPrinGr'] = df['ChgOffPrinGr'].astype(float)"
   ]
  },
  {
   "cell_type": "code",
   "execution_count": 291,
   "metadata": {},
   "outputs": [],
   "source": [
    "# supprimer des virgules\n",
    "df['GrAppv'] = df['GrAppv'].str.replace(',','')\n",
    "\n",
    "# supprimer des dollars\n",
    "df['GrAppv'] = df['GrAppv'].str.replace('$','')\n",
    "\n",
    "# transformation de la variable en type float\n",
    "df['GrAppv'] = df['GrAppv'].astype(float)"
   ]
  },
  {
   "cell_type": "code",
   "execution_count": 292,
   "metadata": {},
   "outputs": [],
   "source": [
    "# supprimer des virgules\n",
    "df['SBA_Appv'] = df['SBA_Appv'].str.replace(',','')\n",
    "\n",
    "# supprimer des dollars\n",
    "df['SBA_Appv'] = df['SBA_Appv'].str.replace('$','')\n",
    "\n",
    "# transformation de la variable en type float\n",
    "df['SBA_Appv'] = df['SBA_Appv'].astype(float)"
   ]
  },
  {
   "cell_type": "markdown",
   "metadata": {},
   "source": [
    "### variable 'MIS_Status"
   ]
  },
  {
   "cell_type": "code",
   "execution_count": 293,
   "metadata": {},
   "outputs": [
    {
     "data": {
      "text/plain": [
       "MIS_Status\n",
       "False    897167\n",
       "True       1997\n",
       "Name: count, dtype: int64"
      ]
     },
     "execution_count": 293,
     "metadata": {},
     "output_type": "execute_result"
    }
   ],
   "source": [
    "df['MIS_Status'].isnull().value_counts()"
   ]
  },
  {
   "cell_type": "code",
   "execution_count": 294,
   "metadata": {},
   "outputs": [],
   "source": [
    "# Suppression des lignes ne comportant pas de valeur sur la variable 'MIS_Status'\n",
    "df = df[~df['MIS_Status'].isnull()]"
   ]
  },
  {
   "cell_type": "code",
   "execution_count": 295,
   "metadata": {},
   "outputs": [],
   "source": [
    "# convertir variable MIS_Status\n",
    "df.loc[df['MIS_Status'].isin([\"P I F\"]), 'MIS_Status'] = 1\n",
    "df.loc[df['MIS_Status'].isin([\"CHGOFF\"]), 'MIS_Status'] = 0\n",
    "df['MIS_Status'] = df['MIS_Status'].astype(int)"
   ]
  },
  {
   "cell_type": "code",
   "execution_count": 296,
   "metadata": {},
   "outputs": [
    {
     "data": {
      "text/html": [
       "<div>\n",
       "<style scoped>\n",
       "    .dataframe tbody tr th:only-of-type {\n",
       "        vertical-align: middle;\n",
       "    }\n",
       "\n",
       "    .dataframe tbody tr th {\n",
       "        vertical-align: top;\n",
       "    }\n",
       "\n",
       "    .dataframe thead th {\n",
       "        text-align: right;\n",
       "    }\n",
       "</style>\n",
       "<table border=\"1\" class=\"dataframe\">\n",
       "  <thead>\n",
       "    <tr style=\"text-align: right;\">\n",
       "      <th></th>\n",
       "      <th>LoanNr_ChkDgt</th>\n",
       "      <th>Name</th>\n",
       "      <th>City</th>\n",
       "      <th>State</th>\n",
       "      <th>Zip</th>\n",
       "      <th>Bank</th>\n",
       "      <th>BankState</th>\n",
       "      <th>NAICS</th>\n",
       "      <th>ApprovalDate</th>\n",
       "      <th>ApprovalFY</th>\n",
       "      <th>Term</th>\n",
       "      <th>NoEmp</th>\n",
       "      <th>NewExist</th>\n",
       "      <th>CreateJob</th>\n",
       "      <th>RetainedJob</th>\n",
       "      <th>FranchiseCode</th>\n",
       "      <th>UrbanRural</th>\n",
       "      <th>RevLineCr</th>\n",
       "      <th>LowDoc</th>\n",
       "      <th>ChgOffDate</th>\n",
       "      <th>DisbursementDate</th>\n",
       "      <th>DisbursementGross</th>\n",
       "      <th>BalanceGross</th>\n",
       "      <th>MIS_Status</th>\n",
       "      <th>ChgOffPrinGr</th>\n",
       "      <th>GrAppv</th>\n",
       "      <th>SBA_Appv</th>\n",
       "    </tr>\n",
       "  </thead>\n",
       "  <tbody>\n",
       "    <tr>\n",
       "      <th>0</th>\n",
       "      <td>1000014003</td>\n",
       "      <td>ABC HOBBYCRAFT</td>\n",
       "      <td>EVANSVILLE</td>\n",
       "      <td>IN</td>\n",
       "      <td>47711</td>\n",
       "      <td>FIFTH THIRD BANK</td>\n",
       "      <td>OH</td>\n",
       "      <td>451120</td>\n",
       "      <td>28-Feb-97</td>\n",
       "      <td>1997</td>\n",
       "      <td>84</td>\n",
       "      <td>4</td>\n",
       "      <td>2</td>\n",
       "      <td>0</td>\n",
       "      <td>0</td>\n",
       "      <td>1</td>\n",
       "      <td>0</td>\n",
       "      <td>1</td>\n",
       "      <td>2</td>\n",
       "      <td>NaN</td>\n",
       "      <td>28-Feb-99</td>\n",
       "      <td>60000.0</td>\n",
       "      <td>0.0</td>\n",
       "      <td>1</td>\n",
       "      <td>0.0</td>\n",
       "      <td>60000.0</td>\n",
       "      <td>48000.0</td>\n",
       "    </tr>\n",
       "  </tbody>\n",
       "</table>\n",
       "</div>"
      ],
      "text/plain": [
       "   LoanNr_ChkDgt            Name        City State    Zip              Bank  \\\n",
       "0     1000014003  ABC HOBBYCRAFT  EVANSVILLE    IN  47711  FIFTH THIRD BANK   \n",
       "\n",
       "  BankState   NAICS ApprovalDate ApprovalFY  Term  NoEmp  NewExist  CreateJob  \\\n",
       "0        OH  451120    28-Feb-97       1997    84      4         2          0   \n",
       "\n",
       "   RetainedJob  FranchiseCode  UrbanRural  RevLineCr  LowDoc ChgOffDate  \\\n",
       "0            0              1           0          1       2        NaN   \n",
       "\n",
       "  DisbursementDate  DisbursementGross  BalanceGross  MIS_Status  ChgOffPrinGr  \\\n",
       "0        28-Feb-99            60000.0           0.0           1           0.0   \n",
       "\n",
       "    GrAppv  SBA_Appv  \n",
       "0  60000.0   48000.0  "
      ]
     },
     "execution_count": 296,
     "metadata": {},
     "output_type": "execute_result"
    }
   ],
   "source": [
    "df.head(1)"
   ]
  },
  {
   "cell_type": "markdown",
   "metadata": {},
   "source": [
    "### variable 'NAICS'"
   ]
  },
  {
   "cell_type": "code",
   "execution_count": 297,
   "metadata": {},
   "outputs": [
    {
     "data": {
      "text/plain": [
       "NAICS\n",
       "0         201667\n",
       "722110     27941\n",
       "722211     19435\n",
       "811111     14539\n",
       "621210     14034\n",
       "           ...  \n",
       "112420         1\n",
       "316212         1\n",
       "336414         1\n",
       "315240         1\n",
       "311311         1\n",
       "Name: count, Length: 1312, dtype: int64"
      ]
     },
     "execution_count": 297,
     "metadata": {},
     "output_type": "execute_result"
    }
   ],
   "source": [
    "df['NAICS'].value_counts()"
   ]
  },
  {
   "cell_type": "code",
   "execution_count": 298,
   "metadata": {},
   "outputs": [],
   "source": [
    "# conserver uniquement les 2 premiers chiffres de chaque valeur\n",
    "def convert_two_numbers(number):\n",
    "    number_to_str = str(number)\n",
    "    transform_number = number_to_str[:2]\n",
    "    return int(transform_number)\n",
    "\n",
    "new_naics = []\n",
    "for item in df['NAICS']:\n",
    "    new_item= convert_two_numbers(item)\n",
    "    new_naics.append(new_item)\n",
    "\n",
    "df['NAICS'] = new_naics"
   ]
  },
  {
   "cell_type": "code",
   "execution_count": 299,
   "metadata": {},
   "outputs": [
    {
     "data": {
      "text/plain": [
       "array([45, 72, 62,  0, 33, 81, 23, 44, 42, 61, 53, 54, 31, 51, 71, 52, 21,\n",
       "       32, 56, 48, 11, 92, 22, 49, 55])"
      ]
     },
     "execution_count": 299,
     "metadata": {},
     "output_type": "execute_result"
    }
   ],
   "source": [
    "df['NAICS'].unique()"
   ]
  },
  {
   "cell_type": "markdown",
   "metadata": {},
   "source": [
    "### Variable 'FranchiseCode'"
   ]
  },
  {
   "cell_type": "code",
   "execution_count": 300,
   "metadata": {},
   "outputs": [
    {
     "data": {
      "text/plain": [
       "FranchiseCode\n",
       "1        637395\n",
       "0        208040\n",
       "78760      3373\n",
       "68020      1921\n",
       "50564      1034\n",
       "          ...  \n",
       "89009         1\n",
       "23118         1\n",
       "56574         1\n",
       "1561          1\n",
       "48820         1\n",
       "Name: count, Length: 2767, dtype: int64"
      ]
     },
     "execution_count": 300,
     "metadata": {},
     "output_type": "execute_result"
    }
   ],
   "source": [
    "df['FranchiseCode'].value_counts()"
   ]
  },
  {
   "cell_type": "code",
   "execution_count": 301,
   "metadata": {},
   "outputs": [],
   "source": [
    "# convertir les valeurs '1' en '0' signifiant 'No franchise' \n",
    "# convertir les valeurs différentes de '0' en '1' signifiant 'franchise' \n",
    "df.loc[df['FranchiseCode'].isin([1]), 'FranchiseCode'] = 0\n",
    "df.loc[~df['FranchiseCode'].isin([0]), 'FranchiseCode'] = 1"
   ]
  },
  {
   "cell_type": "code",
   "execution_count": 302,
   "metadata": {},
   "outputs": [
    {
     "data": {
      "text/plain": [
       "FranchiseCode\n",
       "0    845435\n",
       "1     51732\n",
       "Name: count, dtype: int64"
      ]
     },
     "execution_count": 302,
     "metadata": {},
     "output_type": "execute_result"
    }
   ],
   "source": [
    "df['FranchiseCode'].value_counts()"
   ]
  },
  {
   "cell_type": "code",
   "execution_count": 303,
   "metadata": {},
   "outputs": [
    {
     "data": {
      "text/html": [
       "<div>\n",
       "<style scoped>\n",
       "    .dataframe tbody tr th:only-of-type {\n",
       "        vertical-align: middle;\n",
       "    }\n",
       "\n",
       "    .dataframe tbody tr th {\n",
       "        vertical-align: top;\n",
       "    }\n",
       "\n",
       "    .dataframe thead th {\n",
       "        text-align: right;\n",
       "    }\n",
       "</style>\n",
       "<table border=\"1\" class=\"dataframe\">\n",
       "  <thead>\n",
       "    <tr style=\"text-align: right;\">\n",
       "      <th></th>\n",
       "      <th>LoanNr_ChkDgt</th>\n",
       "      <th>Name</th>\n",
       "      <th>City</th>\n",
       "      <th>State</th>\n",
       "      <th>Zip</th>\n",
       "      <th>Bank</th>\n",
       "      <th>BankState</th>\n",
       "      <th>NAICS</th>\n",
       "      <th>ApprovalDate</th>\n",
       "      <th>ApprovalFY</th>\n",
       "      <th>Term</th>\n",
       "      <th>NoEmp</th>\n",
       "      <th>NewExist</th>\n",
       "      <th>CreateJob</th>\n",
       "      <th>RetainedJob</th>\n",
       "      <th>FranchiseCode</th>\n",
       "      <th>UrbanRural</th>\n",
       "      <th>RevLineCr</th>\n",
       "      <th>LowDoc</th>\n",
       "      <th>ChgOffDate</th>\n",
       "      <th>DisbursementDate</th>\n",
       "      <th>DisbursementGross</th>\n",
       "      <th>BalanceGross</th>\n",
       "      <th>MIS_Status</th>\n",
       "      <th>ChgOffPrinGr</th>\n",
       "      <th>GrAppv</th>\n",
       "      <th>SBA_Appv</th>\n",
       "    </tr>\n",
       "  </thead>\n",
       "  <tbody>\n",
       "    <tr>\n",
       "      <th>173130</th>\n",
       "      <td>2238194005</td>\n",
       "      <td>HOWARD JOHNSON</td>\n",
       "      <td>KISSIMMEE</td>\n",
       "      <td>FL</td>\n",
       "      <td>34744</td>\n",
       "      <td>FLORIDA 1ST CAP. FINAN CORPORA</td>\n",
       "      <td>FL</td>\n",
       "      <td>0</td>\n",
       "      <td>5-Aug-98</td>\n",
       "      <td>1998</td>\n",
       "      <td>240</td>\n",
       "      <td>26</td>\n",
       "      <td>1</td>\n",
       "      <td>6</td>\n",
       "      <td>20</td>\n",
       "      <td>1</td>\n",
       "      <td>0</td>\n",
       "      <td>1</td>\n",
       "      <td>1</td>\n",
       "      <td>NaN</td>\n",
       "      <td>15-Sep-99</td>\n",
       "      <td>1000000.0</td>\n",
       "      <td>0.0</td>\n",
       "      <td>1</td>\n",
       "      <td>0.0</td>\n",
       "      <td>1000000.0</td>\n",
       "      <td>1000000.0</td>\n",
       "    </tr>\n",
       "  </tbody>\n",
       "</table>\n",
       "</div>"
      ],
      "text/plain": [
       "        LoanNr_ChkDgt            Name       City State    Zip  \\\n",
       "173130     2238194005  HOWARD JOHNSON  KISSIMMEE    FL  34744   \n",
       "\n",
       "                                  Bank BankState  NAICS ApprovalDate  \\\n",
       "173130  FLORIDA 1ST CAP. FINAN CORPORA        FL      0     5-Aug-98   \n",
       "\n",
       "       ApprovalFY  Term  NoEmp  NewExist  CreateJob  RetainedJob  \\\n",
       "173130       1998   240     26         1          6           20   \n",
       "\n",
       "        FranchiseCode  UrbanRural  RevLineCr  LowDoc ChgOffDate  \\\n",
       "173130              1           0          1       1        NaN   \n",
       "\n",
       "       DisbursementDate  DisbursementGross  BalanceGross  MIS_Status  \\\n",
       "173130        15-Sep-99          1000000.0           0.0           1   \n",
       "\n",
       "        ChgOffPrinGr     GrAppv   SBA_Appv  \n",
       "173130           0.0  1000000.0  1000000.0  "
      ]
     },
     "execution_count": 303,
     "metadata": {},
     "output_type": "execute_result"
    }
   ],
   "source": [
    "df.sample(1)"
   ]
  },
  {
   "cell_type": "markdown",
   "metadata": {},
   "source": [
    "### Variable 'ApprovalDate'"
   ]
  },
  {
   "cell_type": "code",
   "execution_count": 304,
   "metadata": {},
   "outputs": [
    {
     "data": {
      "text/plain": [
       "array(['28-Feb-97', '2-Jun-80', '7-Feb-06', ..., '24-Feb-97', '25-Feb-97',\n",
       "       '27-Feb-97'], shape=(9836,), dtype=object)"
      ]
     },
     "execution_count": 304,
     "metadata": {},
     "output_type": "execute_result"
    }
   ],
   "source": [
    "df['ApprovalDate'].unique()"
   ]
  },
  {
   "cell_type": "code",
   "execution_count": 305,
   "metadata": {},
   "outputs": [],
   "source": [
    "# Convertir la valeur en ne conserver que l'année\n",
    "\n",
    "# Récupérer les 2 dernières chiffres de la valeur correspondant à une année\n",
    "df['ApprovalDate'] = df['ApprovalDate'].apply(lambda x: x[-2:])\n",
    "\n",
    "# Concaténer \"20\" à la valeur lorsque cette dernière commence par \"0\" ou \"1\", sinon concaténer \"19\"\n",
    "df['ApprovalDate'] = df['ApprovalDate'].apply(lambda x: \"20\" + x if x.startswith('0') or x.startswith('1') else \"19\" + x)\n",
    "\n",
    "# transformer la variable en type integer\n",
    "df['ApprovalDate'] = df['ApprovalDate'].astype(int)"
   ]
  },
  {
   "cell_type": "code",
   "execution_count": 306,
   "metadata": {},
   "outputs": [
    {
     "data": {
      "text/plain": [
       "array([1997, 1980, 2006, 1996, 1998, 1999, 2000, 2001, 1971, 2002, 2003,\n",
       "       2004, 1972, 1978, 1981, 2005, 1979, 1982, 1966, 1983, 1984, 1985,\n",
       "       2007, 1986, 1987, 1973, 2008, 1988, 1989, 2009, 1991, 1990, 2010,\n",
       "       2011, 1992, 1993, 2012, 1994, 2013, 1975, 1976, 1974, 2014, 1977,\n",
       "       1968, 1969, 1970, 1995])"
      ]
     },
     "execution_count": 306,
     "metadata": {},
     "output_type": "execute_result"
    }
   ],
   "source": [
    "# Vérification de la transformation\n",
    "df['ApprovalDate'].unique()"
   ]
  },
  {
   "cell_type": "markdown",
   "metadata": {},
   "source": [
    "# Variable 'ApprovalFY'"
   ]
  },
  {
   "cell_type": "code",
   "execution_count": 307,
   "metadata": {},
   "outputs": [
    {
     "data": {
      "text/plain": [
       "array([1997, 1980, 2006, 1998, 1999, 2000, 2001, 1972, 2003, 2004, 1978,\n",
       "       1979, 1981, 2005, 1982, 1966, 1983, 1973, 1984, 2007, 1985, 1986,\n",
       "       1987, 2008, 1988, 2009, 1989, 1991, 1990, 1974, 2010, 2011, 1992,\n",
       "       1993, 2002, 2012, 2013, 1994, 2014, 1975, 1977, 1976, '2004',\n",
       "       '1994', '1979', '1976', '1975', '1974', '1977', '1981', '1982',\n",
       "       '1983', '1984', '1978', '1980', '1968', '1976A', '1969', '1995',\n",
       "       '1970', '2005', '1996', '1971', 1996, 1971], dtype=object)"
      ]
     },
     "execution_count": 307,
     "metadata": {},
     "output_type": "execute_result"
    }
   ],
   "source": [
    "df['ApprovalFY'].unique()"
   ]
  },
  {
   "cell_type": "code",
   "execution_count": 308,
   "metadata": {},
   "outputs": [],
   "source": [
    "# convertir en type str\n",
    "df['ApprovalFY'] = df['ApprovalFY'].astype(str)\n",
    "\n",
    "# supprimer les éléments non numériques concaténés aux valeurs\n",
    "df['ApprovalFY'] = df['ApprovalFY'].str.replace(\"A\",\"\")\n",
    "\n",
    "# convertir en type int\n",
    "df['ApprovalFY'] = df['ApprovalFY'].astype(int)"
   ]
  },
  {
   "cell_type": "code",
   "execution_count": 309,
   "metadata": {},
   "outputs": [
    {
     "data": {
      "text/plain": [
       "array([1997, 1980, 2006, 1998, 1999, 2000, 2001, 1972, 2003, 2004, 1978,\n",
       "       1979, 1981, 2005, 1982, 1966, 1983, 1973, 1984, 2007, 1985, 1986,\n",
       "       1987, 2008, 1988, 2009, 1989, 1991, 1990, 1974, 2010, 2011, 1992,\n",
       "       1993, 2002, 2012, 2013, 1994, 2014, 1975, 1977, 1976, 1968, 1969,\n",
       "       1995, 1970, 1996, 1971])"
      ]
     },
     "execution_count": 309,
     "metadata": {},
     "output_type": "execute_result"
    }
   ],
   "source": [
    "# Vérification\n",
    "df['ApprovalFY'].unique()"
   ]
  },
  {
   "cell_type": "markdown",
   "metadata": {},
   "source": [
    "### Création de la variable 'crysis_year' correspondant la validation du prêt durant une période de crise économique"
   ]
  },
  {
   "cell_type": "code",
   "execution_count": 310,
   "metadata": {},
   "outputs": [],
   "source": [
    "# Liste comprenant les années correspondant aux crises économiques des Etats-Unis \n",
    "# 1973 - 1975 : crise pétrolière\n",
    "# 1980 - 1982 : crise inflationniste (récession)\n",
    "# 1990 : invasion du Koweit\n",
    "# 2007 - 2009 : Crise des Subprimes\n",
    "\n",
    "crysis_list = [1973, 1974, 1975, 1980, 1981, 1982, 1990, 2007, 2008, 2009]\n",
    "df['crysis_year'] = df['ApprovalFY'].apply(lambda x: \"yes\" if x in crysis_list else \"no\")"
   ]
  },
  {
   "cell_type": "code",
   "execution_count": 311,
   "metadata": {},
   "outputs": [
    {
     "data": {
      "text/plain": [
       "array(['no', 'yes'], dtype=object)"
      ]
     },
     "execution_count": 311,
     "metadata": {},
     "output_type": "execute_result"
    }
   ],
   "source": [
    "# Vérification\n",
    "df['crysis_year'].unique()"
   ]
  },
  {
   "cell_type": "markdown",
   "metadata": {},
   "source": [
    "### Vérifications finales"
   ]
  },
  {
   "cell_type": "code",
   "execution_count": 312,
   "metadata": {},
   "outputs": [
    {
     "data": {
      "text/plain": [
       "LoanNr_ChkDgt          int64\n",
       "Name                  object\n",
       "City                  object\n",
       "State                 object\n",
       "Zip                    int64\n",
       "Bank                  object\n",
       "BankState             object\n",
       "NAICS                  int64\n",
       "ApprovalDate           int64\n",
       "ApprovalFY             int64\n",
       "Term                   int64\n",
       "NoEmp                  int64\n",
       "NewExist               int64\n",
       "CreateJob              int64\n",
       "RetainedJob            int64\n",
       "FranchiseCode          int64\n",
       "UrbanRural             int64\n",
       "RevLineCr              int64\n",
       "LowDoc                 int64\n",
       "ChgOffDate            object\n",
       "DisbursementDate      object\n",
       "DisbursementGross    float64\n",
       "BalanceGross         float64\n",
       "MIS_Status             int64\n",
       "ChgOffPrinGr         float64\n",
       "GrAppv               float64\n",
       "SBA_Appv             float64\n",
       "crysis_year           object\n",
       "dtype: object"
      ]
     },
     "execution_count": 312,
     "metadata": {},
     "output_type": "execute_result"
    }
   ],
   "source": [
    "# vérification des types des variables\n",
    "df.dtypes"
   ]
  },
  {
   "cell_type": "code",
   "execution_count": 313,
   "metadata": {},
   "outputs": [
    {
     "data": {
      "text/plain": [
       "LoanNr_ChkDgt             0\n",
       "Name                      0\n",
       "City                      0\n",
       "State                     0\n",
       "Zip                       0\n",
       "Bank                      0\n",
       "BankState                 0\n",
       "NAICS                     0\n",
       "ApprovalDate              0\n",
       "ApprovalFY                0\n",
       "Term                      0\n",
       "NoEmp                     0\n",
       "NewExist                  0\n",
       "CreateJob                 0\n",
       "RetainedJob               0\n",
       "FranchiseCode             0\n",
       "UrbanRural                0\n",
       "RevLineCr                 0\n",
       "LowDoc                    0\n",
       "ChgOffDate           734729\n",
       "DisbursementDate       2175\n",
       "DisbursementGross         0\n",
       "BalanceGross              0\n",
       "MIS_Status                0\n",
       "ChgOffPrinGr              0\n",
       "GrAppv                    0\n",
       "SBA_Appv                  0\n",
       "crysis_year               0\n",
       "dtype: int64"
      ]
     },
     "execution_count": 313,
     "metadata": {},
     "output_type": "execute_result"
    }
   ],
   "source": [
    "# Vérification des valeurs manquantes\n",
    "df.isnull().sum()"
   ]
  },
  {
   "cell_type": "code",
   "execution_count": 314,
   "metadata": {},
   "outputs": [],
   "source": [
    "# Création d'un fichier csv nettoyé\n",
    "df.to_csv(\"sba_national_clean.csv\", index = False)"
   ]
  }
 ],
 "metadata": {
  "kernelspec": {
   "display_name": ".venv",
   "language": "python",
   "name": "python3"
  },
  "language_info": {
   "codemirror_mode": {
    "name": "ipython",
    "version": 3
   },
   "file_extension": ".py",
   "mimetype": "text/x-python",
   "name": "python",
   "nbconvert_exporter": "python",
   "pygments_lexer": "ipython3",
   "version": "3.13.1"
  }
 },
 "nbformat": 4,
 "nbformat_minor": 2
}
