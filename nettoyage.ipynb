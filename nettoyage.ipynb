{
 "cells": [
  {
   "cell_type": "markdown",
   "metadata": {},
   "source": [
    "Colonnes du dataset au départ"
   ]
  },
  {
   "cell_type": "markdown",
   "metadata": {},
   "source": [
    "'LoanNr_ChkDgt', 'Name', 'City', 'State', 'Zip', 'Bank', 'BankState',\n",
    "       'NAICS', 'ApprovalDate', 'ApprovalFY', 'Term', 'NoEmp', 'NewExist',\n",
    "       'CreateJob', 'RetainedJob', 'FranchiseCode', 'UrbanRural', 'RevLineCr',\n",
    "       'LowDoc', 'ChgOffDate', 'DisbursementDate', 'DisbursementGross',\n",
    "       'BalanceGross', 'MIS_Status', 'ChgOffPrinGr', 'GrAppv', 'SBA_Appv'\n",
    "      "
   ]
  },
  {
   "cell_type": "markdown",
   "metadata": {},
   "source": [
    "Nettoyage de colonnes pour supprimer valeurs nuls et caractères indésirables"
   ]
  },
  {
   "cell_type": "code",
   "execution_count": null,
   "metadata": {},
   "outputs": [],
   "source": [
    "cols_to_convert = ['ApprovalFY', 'DisbursementGross', 'BalanceGross', 'ChgOffPrinGr', 'GrAppv', 'SBA_Appv','NewExist','LowDoc','Bank','BankState']\n",
    "\n",
    "for col in cols_to_convert:\n",
    "    df[col] = df[col].astype(str)  # Convertir en string pour nettoyage\n",
    "    df[col] = df[col].str.replace('[\\$,]', '', regex=True)  # Supprimer $ et ,\n",
    "    df[col] = df[col].str.strip()  # Supprimer les espaces\n",
    "    df[col] = df[col].replace('', '0')  # Remplacer les valeurs vides par 0\n",
    "    df[col] = pd.to_numeric(df[col], errors='coerce')  # Convertir en float, mettre NaN si erreur\n",
    "\n",
    "# Vérifier s'il y a encore des NaN après conversion\n",
    "print(df[cols_to_convert].isna().sum())  # Compter les valeurs NaN\n",
    "\n",
    "# Si des NaN sont détectés, les remplacer par 0 ou la moyenne\n",
    "df[cols_to_convert] = df[cols_to_convert].fillna(0)  # Ou df[cols_to_convert].fillna(df[cols_to_convert].mean())\n"
   ]
  },
  {
   "cell_type": "markdown",
   "metadata": {},
   "source": [
    "Convertion de Revline et NewExist pour que le modèle les comprenne"
   ]
  },
  {
   "cell_type": "code",
   "execution_count": null,
   "metadata": {},
   "outputs": [],
   "source": [
    "# Remplacer toutes les valeurs de la variable 'RevLineCr' sauf \"Y\" et \"N\" par 0 (unknown)\n",
    "df.loc[~df['RevLineCr'].isin(['Y', 'N']), 'RevLineCr'] = \"0\"\n",
    "# remplacer les valeurs \"N\" (no) par 1 \n",
    "df['RevLineCr'] = df['RevLineCr'].str.replace(\"N\", \"1\")\n",
    "# remplacer les valeurs \"Y\" (yes) par 2\n",
    "df['RevLineCr'] = df['RevLineCr'].str.replace(\"Y\", \"2\")\n",
    "\n",
    "# convertir la variable en type int\n",
    "df['RevLineCr'] = df['RevLineCr'].astype(int)"
   ]
  },
  {
   "cell_type": "code",
   "execution_count": null,
   "metadata": {},
   "outputs": [],
   "source": [
    "df['NewExist'] = df['NewExist'].map({'Existing': 1, 'New': 2, 'Unknown': 0}).astype(int)\n"
   ]
  },
  {
   "cell_type": "markdown",
   "metadata": {},
   "source": [
    "Création d'une nouvelle colonne Mis_status_binary/Target"
   ]
  },
  {
   "cell_type": "code",
   "execution_count": null,
   "metadata": {},
   "outputs": [],
   "source": [
    "# Supprimer les espaces supplémentaires dans la colonne 'MIS_Status'\n",
    "df['MIS_Status'] = df['MIS_Status'].str.strip()\n",
    "\n",
    "# Remplacer les valeurs manquantes par une valeur par défaut\n",
    "df['MIS_Status'] = df['MIS_Status'].fillna('UNKNOWN')\n",
    "\n",
    "# Créer une nouvelle colonne avec les valeurs 0 et 1\n",
    "df['MIS_Status_binary'] = df['MIS_Status'].apply(lambda x: 1 if x == 'P I F' else (0 if x == 'CHGOFF' else 2))\n"
   ]
  },
  {
   "cell_type": "markdown",
   "metadata": {},
   "source": [
    "Création d'une nouvelle colonne Naics_sector pour aider sector"
   ]
  },
  {
   "cell_type": "code",
   "execution_count": null,
   "metadata": {},
   "outputs": [],
   "source": [
    "df['NAICS_sector'] = df['NAICS'].astype(str).str[:2]  # Extrait les 2 premiers chiffres\n",
    "df['NAICS_sector'] = df['NAICS_sector'].astype(int)"
   ]
  }
 ],
 "metadata": {
  "kernelspec": {
   "display_name": "Python 3",
   "language": "python",
   "name": "python3"
  },
  "language_info": {
   "name": "python",
   "version": "3.12.3"
  }
 },
 "nbformat": 4,
 "nbformat_minor": 2
}
